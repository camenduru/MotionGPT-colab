{
  "cells": [
    {
      "cell_type": "markdown",
      "metadata": {
        "id": "view-in-github"
      },
      "source": [
        "[![Open In Colab](https://colab.research.google.com/assets/colab-badge.svg)](https://colab.research.google.com/github/camenduru/MotionGPT-colab/blob/main/MotionGPT_colab.ipynb)"
      ]
    },
    {
      "cell_type": "code",
      "execution_count": null,
      "metadata": {
        "id": "VjYy0F2gZIPR"
      },
      "outputs": [],
      "source": [
        "%cd /content\n",
        "!git clone -b dev https://github.com/camenduru/MotionGPT-hf\n",
        "%cd /content/MotionGPT-hf\n",
        "\n",
        "!apt -y install -qq aria2 libosmesa6\n",
        "\n",
        "!aria2c --console-log-level=error -c -x 16 -s 16 -k 1M https://huggingface.co/spaces/OpenMotionLab/MotionGPT/resolve/main/assets/meta/mean_eval.npy -d /content/MotionGPT-hf/assets/meta -o mean_eval.npy\n",
        "!aria2c --console-log-level=error -c -x 16 -s 16 -k 1M https://huggingface.co/spaces/OpenMotionLab/MotionGPT/resolve/main/assets/meta/mean.npy -d /content/MotionGPT-hf/assets/meta -o mean.npy\n",
        "!aria2c --console-log-level=error -c -x 16 -s 16 -k 1M https://huggingface.co/spaces/OpenMotionLab/MotionGPT/resolve/main/assets/meta/std_eval.npy -d /content/MotionGPT-hf/assets/meta -o std_eval.npy\n",
        "!aria2c --console-log-level=error -c -x 16 -s 16 -k 1M https://huggingface.co/spaces/OpenMotionLab/MotionGPT/resolve/main/assets/meta/std.npy -d /content/MotionGPT-hf/assets/meta -o std.npy\n",
        "!aria2c --console-log-level=error -c -x 16 -s 16 -k 1M https://huggingface.co/spaces/OpenMotionLab/MotionGPT/resolve/main/assets/videos/example0_blender.mp4 -d /content/MotionGPT-hf/assets/videos -o example0_blender.mp4\n",
        "!aria2c --console-log-level=error -c -x 16 -s 16 -k 1M https://huggingface.co/spaces/OpenMotionLab/MotionGPT/resolve/main/deps/smpl/smpl_models/gmm_08.pkl -d /content/MotionGPT-hf/deps/smpl/smpl_models -o gmm_08.pkl\n",
        "!aria2c --console-log-level=error -c -x 16 -s 16 -k 1M https://huggingface.co/spaces/OpenMotionLab/MotionGPT/resolve/main/deps/smpl/smpl_models/neutral_smpl_mean_params.h5 -d /content/MotionGPT-hf/deps/smpl/smpl_models -o neutral_smpl_mean_params.h5\n",
        "!aria2c --console-log-level=error -c -x 16 -s 16 -k 1M https://huggingface.co/spaces/OpenMotionLab/MotionGPT/resolve/main/deps/smpl/smpl_models/SMPL_downsample_index.pkl -d /content/MotionGPT-hf/deps/smpl/smpl_models -o SMPL_downsample_index.pkl\n",
        "!aria2c --console-log-level=error -c -x 16 -s 16 -k 1M https://huggingface.co/spaces/OpenMotionLab/MotionGPT/resolve/main/deps/smpl/smpl_models/smpl.tar.gz -d /content/MotionGPT-hf/deps/smpl/smpl_models -o smpl.tar.gz\n",
        "!aria2c --console-log-level=error -c -x 16 -s 16 -k 1M https://huggingface.co/spaces/OpenMotionLab/MotionGPT/resolve/main/deps/smpl/smpl_models/smpl/SMPL_FEMALE.pkl -d /content/MotionGPT-hf/deps/smpl/smpl_models/smpl -o SMPL_FEMALE.pkl\n",
        "!aria2c --console-log-level=error -c -x 16 -s 16 -k 1M https://huggingface.co/spaces/OpenMotionLab/MotionGPT/resolve/main/deps/smpl/smpl_models/smpl/SMPL_MALE.pkl -d /content/MotionGPT-hf/deps/smpl/smpl_models/smpl -o SMPL_MALE.pkl\n",
        "!aria2c --console-log-level=error -c -x 16 -s 16 -k 1M https://huggingface.co/spaces/OpenMotionLab/MotionGPT/resolve/main/deps/smpl/smpl_models/smpl/SMPL_NEUTRAL.pkl -d /content/MotionGPT-hf/deps/smpl/smpl_models/smpl -o SMPL_NEUTRAL.pkl\n",
        "!aria2c --console-log-level=error -c -x 16 -s 16 -k 1M https://huggingface.co/spaces/OpenMotionLab/MotionGPT/resolve/main/deps/smpl/smpl_models/smplh/mano_v1_2.zip -d /content/MotionGPT-hf/deps/smpl/smpl_models/smplh -o mano_v1_2.zip\n",
        "!aria2c --console-log-level=error -c -x 16 -s 16 -k 1M https://huggingface.co/spaces/OpenMotionLab/MotionGPT/resolve/main/deps/smpl/smpl_models/smplh/SMPLH_FEMALE.npz -d /content/MotionGPT-hf/deps/smpl/smpl_models/smplh -o SMPLH_FEMALE.npz\n",
        "!aria2c --console-log-level=error -c -x 16 -s 16 -k 1M https://huggingface.co/spaces/OpenMotionLab/MotionGPT/resolve/main/deps/smpl/smpl_models/smplh/SMPLH_MALE.npz -d /content/MotionGPT-hf/deps/smpl/smpl_models/smplh -o SMPLH_MALE.npz\n",
        "!aria2c --console-log-level=error -c -x 16 -s 16 -k 1M https://huggingface.co/spaces/OpenMotionLab/MotionGPT/resolve/main/deps/smpl/smpl_models/smplh/SMPLH_NEUTRAL.npz -d /content/MotionGPT-hf/deps/smpl/smpl_models/smplh -o SMPLH_NEUTRAL.npz\n",
        "!aria2c --console-log-level=error -c -x 16 -s 16 -k 1M https://huggingface.co/spaces/OpenMotionLab/MotionGPT/resolve/main/deps/smpl/smpl_models/smplh/smplh.tar.xz -d /content/MotionGPT-hf/deps/smpl/smpl_models/smplh -o smplh.tar.xz\n",
        "!aria2c --console-log-level=error -c -x 16 -s 16 -k 1M https://huggingface.co/spaces/OpenMotionLab/MotionGPT/resolve/main/deps/smpl/smpl_models/smplx_parts_segm.pkl -d /content/MotionGPT-hf/deps/smpl/smpl_models -o smplx_parts_segm.pkl\n",
        "\n",
        "!pip install -q gradio==3.50.2 pytorch-lightning omegaconf bert-score pyglet chumpy mapbox-earcut\n",
        "!pip install -q PyOpenGL_accelerate smplx trimesh triangle ftfy pyrender -U\n",
        "!pip install -q pyopengl==3.1.4 -U\n",
        "\n",
        "!python app.py"
      ]
    }
  ],
  "metadata": {
    "accelerator": "GPU",
    "colab": {
      "gpuType": "T4",
      "provenance": []
    },
    "kernelspec": {
      "display_name": "Python 3",
      "name": "python3"
    },
    "language_info": {
      "name": "python"
    }
  },
  "nbformat": 4,
  "nbformat_minor": 0
}
